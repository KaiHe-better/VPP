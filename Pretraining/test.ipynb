{
 "cells": [
  {
   "cell_type": "code",
   "execution_count": 10,
   "metadata": {},
   "outputs": [
    {
     "name": "stdout",
     "output_type": "stream",
     "text": [
      "tensor([[1, 1, 1, 1, 1, 1, 0, 0, 0],\n",
      "        [1, 1, 1, 1, 1, 1, 1, 0, 0]])\n",
      "tensor([[ True,  True,  True,  True,  True,  True,  True,  True,  True,  True,\n",
      "          True,  True, False, False, False],\n",
      "        [ True,  True,  True,  True,  True,  True,  True,  True,  True, False,\n",
      "         False, False, False, False, False]])\n",
      "tensor([[1, 2, 3, 4, 5, 6, 0, 0, 0],\n",
      "        [1, 2, 3, 4, 5, 6, 7, 0, 0]])\n"
     ]
    }
   ],
   "source": [
    "import torch\n",
    "\n",
    "a = torch.LongTensor([[1,2,3,4,5,6,0,0,0], [1,2,3,4,5,6,7,0,0]])\n",
    "b = torch.LongTensor([[1,2,3,4,5,6,7,8,9,10,11,12,0,0,0], [1,2,3,4,5,6,7,8,9,0,0,0,0,0,0]])\n",
    "\n",
    "c = (a != 0).long()\n",
    "print(c)\n",
    "\n",
    "d = (b != 0).bool()\n",
    "print(d)\n",
    "e = torch.gather(a, 0, index=c)\n",
    "print(e)"
   ]
  },
  {
   "cell_type": "code",
   "execution_count": 3,
   "metadata": {},
   "outputs": [
    {
     "name": "stderr",
     "output_type": "stream",
     "text": [
      "Truncation was not explicitly activated but `max_length` is provided a specific value, please use `truncation=True` to explicitly truncate examples to max length. Defaulting to 'longest_first' truncation strategy. If you encode pairs of sequences (GLUE-style) with the tokenizer you can select this strategy more precisely by providing a specific strategy to `truncation`.\n"
     ]
    },
    {
     "name": "stdout",
     "output_type": "stream",
     "text": [
      "[649, 21402, 100, 4236, 21402, 424, 4236, 21402, 102, 4236, 21402, 34935, 4]\n",
      "[100, 524, 10, 1294, 4]\n"
     ]
    }
   ],
   "source": [
    "import torch\n",
    "from transformers import BartTokenizer\n",
    "MAX_SENT_LEN = 10\n",
    "\n",
    "tokenizer = BartTokenizer.from_pretrained('facebook/bart-base', max_len=MAX_SENT_LEN)\n",
    "\n",
    "ids = tokenizer.encode('I am a student. I am a student. I am a student. I am a student.', add_special_tokens=False)\n",
    "print(ids)\n",
    "ids = tokenizer.encode('I am a student. I am a student. I am a student. I am a student.', add_special_tokens=False, max_length=MAX_SENT_LEN)\n",
    "print(ids)"
   ]
  },
  {
   "cell_type": "code",
   "execution_count": 140,
   "metadata": {},
   "outputs": [],
   "source": [
    "import random\n",
    "def _entity_aware_text_masking(text, entity):\n",
    "    entity_tokens = entity.split(' ')\n",
    "    text_tokens = text.split(' ')\n",
    "    replace_text_tokens = []\n",
    "\n",
    "    # random mask some entities\n",
    "    i = 0\n",
    "    while i < len(text_tokens):\n",
    "        if ' '.join(entity_tokens).lower() == ' '.join(text_tokens[i:i+(len(entity_tokens))]).lower():\n",
    "            if random.random() < 0.8:\n",
    "                replace_text_tokens.append('<mask>')\n",
    "                i += len(entity_tokens)\n",
    "            else:\n",
    "                replace_text_tokens.append(text_tokens[i])\n",
    "                i += 1\n",
    "        else:\n",
    "            replace_text_tokens.append(text_tokens[i])\n",
    "            i += 1\n",
    "\n",
    "    return ' '.join(replace_text_tokens)\n",
    "\n",
    "def _token_aware_text_masking(text):\n",
    "    replace_text_tokens = text.split(' ')\n",
    "    # random mask some tokens\n",
    "    for i, _token in enumerate(replace_text_tokens):\n",
    "        if random.random() < 0.1:\n",
    "            replace_text_tokens[i] = '<mask>'\n",
    "\n",
    "    return ' '.join(replace_text_tokens)"
   ]
  },
  {
   "cell_type": "code",
   "execution_count": 152,
   "metadata": {},
   "outputs": [
    {
     "name": "stdout",
     "output_type": "stream",
     "text": [
      "Beijing is a beautiful city. And <mask> wife went to there twice.\n",
      "<mask> is a beautiful city. And <mask> wife went to there twice.\n",
      "<mask> is <mask> beautiful city. And <mask> wife <mask> to there <mask>\n"
     ]
    }
   ],
   "source": [
    "text = 'Beijing is a beautiful city. And Machial Jordan wife went to there twice.'\n",
    "entities = ['Machial Jordan', 'Beijing']\n",
    "for entity in entities:\n",
    "    text = _entity_aware_text_masking(text, entity)\n",
    "    print(text)\n",
    "text = _token_aware_text_masking(text)\n",
    "print(text)"
   ]
  },
  {
   "cell_type": "code",
   "execution_count": 39,
   "metadata": {},
   "outputs": [
    {
     "name": "stdout",
     "output_type": "stream",
     "text": [
      "tensor([[53, 53, 53, 53, 53]])\n",
      "tensor([[53, 53, 53, 53, 53]])\n"
     ]
    }
   ],
   "source": [
    "import torch\n",
    "eos_mask = torch.Tensor([[False, False, False, False, False, False, False, False, False, False,\n",
    "         False, False, False, False, False, False, False, False, False, False,\n",
    "         False, False, False, False, False, False, False, False, False, False,\n",
    "         False, False, False, False,  True, False, False, False, False, False,\n",
    "         False, False, False, False, False, False, False, False, False, False,\n",
    "         False, False, False,  True, False, False, False, False, False, False,\n",
    "         False, False, False, False, False, False, False, False, False, False,\n",
    "         False, False, False, False, False, False, False, False]]).bool()\n",
    "\n",
    "hidden_states = torch.LongTensor([[[i]*5 for i in range(eos_mask.size(-1))]])\n",
    "# print(hidden_states)\n",
    "print(hidden_states[eos_mask, :].view(hidden_states.size(0), -1, hidden_states.size(-1))[:, -1, :])\n",
    "decoder_inputs = None\n",
    "\n",
    "eos_mask = decoder_inputs.eq(tokenizer.eos_token_id)\n",
    "sentence_representation = hidden_states[eos_mask, :].view(hidden_states.size(0), -1, hidden_states.size(-1))[\n",
    "            :, -1, :\n",
    "        ]\n",
    "        \n",
    "print(sentence_representation)"
   ]
  },
  {
   "cell_type": "code",
   "execution_count": null,
   "metadata": {},
   "outputs": [],
   "source": [
    "import json\n",
    "import gzip\n",
    "\n",
    "file = 'dataset/wiki_NER/processed2/0.jsonl.gz'\n",
    "\n",
    "with gzip.GzipFile(file, 'r') as fin:\n",
    "    json_bytes = fin.read().splitlines()   \n",
    "\n",
    "    for i, bytes in enumerate(json_bytes):\n",
    "        json_line = json.loads(str(bytes, 'utf-8'))\n",
    "\n",
    "        print(json_line)\n",
    "\n",
    "        if i >= 3:\n",
    "            break"
   ]
  }
 ],
 "metadata": {
  "interpreter": {
   "hash": "04c5cabbe6479d026ba798b26c0dd51b452bd91452f06396bee0ee6297db6e5f"
  },
  "kernelspec": {
   "display_name": "Python 3.7.3 64-bit ('base': conda)",
   "name": "python3"
  },
  "language_info": {
   "codemirror_mode": {
    "name": "ipython",
    "version": 3
   },
   "file_extension": ".py",
   "mimetype": "text/x-python",
   "name": "python",
   "nbconvert_exporter": "python",
   "pygments_lexer": "ipython3",
   "version": "3.7.3"
  },
  "orig_nbformat": 4
 },
 "nbformat": 4,
 "nbformat_minor": 2
}
